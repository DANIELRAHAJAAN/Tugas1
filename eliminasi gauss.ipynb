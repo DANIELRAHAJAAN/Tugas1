{
  "cells": [
    {
      "cell_type": "markdown",
      "metadata": {
        "id": "view-in-github",
        "colab_type": "text"
      },
      "source": [
        "<a href=\"https://colab.research.google.com/github/DANIELRAHAJAAN/Tugas1/blob/main/eliminasi%20gauss.ipynb\" target=\"_parent\"><img src=\"https://colab.research.google.com/assets/colab-badge.svg\" alt=\"Open In Colab\"/></a>"
      ]
    },
    {
      "cell_type": "markdown",
      "source": [
        "1.) Cell ini menjelaskan tujuan dan cara kerja program kepada user\n",
        "\n"
      ],
      "metadata": {
        "id": "zips-gqA9afH"
      }
    },
    {
      "cell_type": "code",
      "source": [
        "# Penjelasan program\n",
        "print(\"Selamat datang di program Metode Eliminasi Gauss!\")\n",
        "print(\"=\" * 50)\n",
        "print(\n",
        "    \"\"\"\n",
        "Program ini dirancang untuk menyelesaikan Sistem Persamaan Linear (SPL)\n",
        "menggunakan Metode Eliminasi Gauss. Anda akan memasukkan matriks augmented\n",
        "dan program akan menyederhanakannya hingga bentuk row echelon form.\n",
        "\n",
        "Ikuti langkah-langkah di cell berikutnya untuk menjalankan program ini.\n",
        "\"\"\"\n",
        ")\n"
      ],
      "metadata": {
        "colab": {
          "base_uri": "https://localhost:8080/"
        },
        "id": "wVGs0hnF9iwB",
        "outputId": "48faf212-2415-486a-efde-86011f431b77"
      },
      "execution_count": 2,
      "outputs": [
        {
          "output_type": "stream",
          "name": "stdout",
          "text": [
            "Selamat datang di program Metode Eliminasi Gauss!\n",
            "==================================================\n",
            "\n",
            "Program ini dirancang untuk menyelesaikan Sistem Persamaan Linear (SPL) \n",
            "menggunakan Metode Eliminasi Gauss. Anda akan memasukkan matriks augmented \n",
            "dan program akan menyederhanakannya hingga bentuk row echelon form.\n",
            "\n",
            "Ikuti langkah-langkah di cell berikutnya untuk menjalankan program ini.\n",
            "\n"
          ]
        }
      ]
    },
    {
      "cell_type": "markdown",
      "source": [
        "2.)cell ini mendefinisikan fungsi print_matrix untuk menampilkan matriks augmented dengan rapi."
      ],
      "metadata": {
        "id": "LO5YjWe89l5U"
      }
    },
    {
      "cell_type": "code",
      "source": [
        "# Fungsi untuk mencetak matriks dengan rapi\n",
        "def print_matrix(matrix):\n",
        "    \"\"\"\n",
        "    Fungsi untuk mencetak matriks dalam format rapi.\n",
        "    Parameter:\n",
        "    - matrix: Matriks augmented (list of lists)\n",
        "    \"\"\"\n",
        "    for row in matrix:\n",
        "        print([\"{:.2f}\".format(val) for val in row])\n",
        "    print()\n"
      ],
      "metadata": {
        "id": "_QqVMWxi91hG"
      },
      "execution_count": 4,
      "outputs": []
    },
    {
      "cell_type": "markdown",
      "source": [
        "3.)Cell ini mengimplementasikan algoritma Eliminasi Gauss untuk mengubah matriks augmented menjadi bentuk row echelon."
      ],
      "metadata": {
        "id": "TBMLT5M19_Kg"
      }
    },
    {
      "cell_type": "code",
      "source": [
        "# Fungsi Eliminasi Gauss\n",
        "def gaussian_elimination(matrix):\n",
        "    \"\"\"\n",
        "    Fungsi untuk menyelesaikan SPL dengan metode Eliminasi Gauss.\n",
        "    Parameter:\n",
        "    - matrix: Matriks augmented (list of lists)\n",
        "\n",
        "    Return:\n",
        "    - matrix: Matriks dalam bentuk row echelon\n",
        "    \"\"\"\n",
        "    n = len(matrix)  # Jumlah baris\n",
        "\n",
        "    for i in range(n):\n",
        "        # Pivot utama\n",
        "        pivot = matrix[i][i]\n",
        "        if pivot == 0:\n",
        "            raise ValueError(\"Pivot tidak boleh nol!\")\n",
        "\n",
        "        # Normalisasi baris pivot\n",
        "        for j in range(len(matrix[i])):\n",
        "            matrix[i][j] /= pivot\n",
        "\n",
        "        # Eliminasi elemen di bawah pivot\n",
        "        for k in range(i + 1, n):\n",
        "            factor = matrix[k][i]\n",
        "            for j in range(len(matrix[k])):\n",
        "                matrix[k][j] -= factor * matrix[i][j]\n",
        "\n",
        "        # Menampilkan matriks setelah setiap langkah\n",
        "        print(f\"Matriks setelah eliminasi baris {i+1}:\")\n",
        "        print_matrix(matrix)\n",
        "\n",
        "    return matrix\n"
      ],
      "metadata": {
        "id": "V98aoT8S-B6F"
      },
      "execution_count": 5,
      "outputs": []
    },
    {
      "cell_type": "markdown",
      "source": [
        "4.)Cell ini mendefinisikan contoh matriks augmented, menjalankan eliminasi, dan menampilkan hasil akhirnya."
      ],
      "metadata": {
        "id": "dGBczsiK-RRG"
      }
    },
    {
      "cell_type": "code",
      "source": [
        "# Contoh matriks augmented (Sistem Persamaan Linear)\n",
        "matrix = [\n",
        "    [2, 3, -1, 5],\n",
        "    [4, 4, -3, 3],\n",
        "    [-2, 3, -1, 1]\n",
        "]\n",
        "\n",
        "print(\"Matriks awal (augmented):\")\n",
        "print_matrix(matrix)\n",
        "\n",
        "# Menjalankan eliminasi Gauss\n",
        "try:\n",
        "    result = gaussian_elimination(matrix)\n",
        "    print(\"Hasil akhir (row echelon form):\")\n",
        "    print_matrix(result)\n",
        "except Exception as e:\n",
        "    print(f\"Terjadi kesalahan: {e}\")\n"
      ],
      "metadata": {
        "colab": {
          "base_uri": "https://localhost:8080/"
        },
        "id": "2CBs_OnV-Uct",
        "outputId": "19337149-a3f3-404c-bbc9-b7dec06779dc"
      },
      "execution_count": 6,
      "outputs": [
        {
          "output_type": "stream",
          "name": "stdout",
          "text": [
            "Matriks awal (augmented):\n",
            "['2.00', '3.00', '-1.00', '5.00']\n",
            "['4.00', '4.00', '-3.00', '3.00']\n",
            "['-2.00', '3.00', '-1.00', '1.00']\n",
            "\n",
            "Matriks setelah eliminasi baris 1:\n",
            "['1.00', '1.50', '-0.50', '2.50']\n",
            "['0.00', '-2.00', '-1.00', '-7.00']\n",
            "['0.00', '6.00', '-2.00', '6.00']\n",
            "\n",
            "Matriks setelah eliminasi baris 2:\n",
            "['1.00', '1.50', '-0.50', '2.50']\n",
            "['-0.00', '1.00', '0.50', '3.50']\n",
            "['0.00', '0.00', '-5.00', '-15.00']\n",
            "\n",
            "Matriks setelah eliminasi baris 3:\n",
            "['1.00', '1.50', '-0.50', '2.50']\n",
            "['-0.00', '1.00', '0.50', '3.50']\n",
            "['-0.00', '-0.00', '1.00', '3.00']\n",
            "\n",
            "Hasil akhir (row echelon form):\n",
            "['1.00', '1.50', '-0.50', '2.50']\n",
            "['-0.00', '1.00', '0.50', '3.50']\n",
            "['-0.00', '-0.00', '1.00', '3.00']\n",
            "\n"
          ]
        }
      ]
    }
  ],
  "metadata": {
    "colab": {
      "provenance": [],
      "include_colab_link": true
    },
    "kernelspec": {
      "display_name": "Python 3",
      "name": "python3"
    },
    "language_info": {
      "name": "python"
    }
  },
  "nbformat": 4,
  "nbformat_minor": 0
}