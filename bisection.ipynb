{
  "nbformat": 4,
  "nbformat_minor": 0,
  "metadata": {
    "colab": {
      "provenance": [],
      "include_colab_link": true
    },
    "kernelspec": {
      "name": "python3",
      "display_name": "Python 3"
    },
    "language_info": {
      "name": "python"
    }
  },
  "cells": [
    {
      "cell_type": "markdown",
      "metadata": {
        "id": "view-in-github",
        "colab_type": "text"
      },
      "source": [
        "<a href=\"https://colab.research.google.com/github/DANIELRAHAJAAN/Tugas1/blob/main/bisection.ipynb\" target=\"_parent\"><img src=\"https://colab.research.google.com/assets/colab-badge.svg\" alt=\"Open In Colab\"/></a>"
      ]
    },
    {
      "cell_type": "code",
      "source": [
        "# Penjelasan program\n",
        "print(\"Selamat datang di program Metode Bisection!\")\n",
        "print(\"=\" * 50)\n",
        "print(\n",
        "    \"\"\"\n",
        "Program ini bertujuan untuk mencari akar fungsi matematika menggunakan metode Bisection.\n",
        "Anda dapat:\n",
        "1. Memasukkan fungsi matematika (contoh: x**2 - 2).\n",
        "2. Memberikan interval [a, b] di mana fungsi memiliki tanda berbeda.\n",
        "3. Menentukan toleransi untuk menghampiri akar.\n",
        "\n",
        "Ikuti langkah-langkah di cell berikutnya!\n",
        "\"\"\"\n",
        ")\n"
      ],
      "metadata": {
        "id": "5_LhaSoZurtu",
        "outputId": "f53f326e-a4fa-4fb6-b380-4011984ae6bc",
        "colab": {
          "base_uri": "https://localhost:8080/"
        }
      },
      "execution_count": 3,
      "outputs": [
        {
          "output_type": "stream",
          "name": "stdout",
          "text": [
            "Selamat datang di program Metode Bisection!\n",
            "==================================================\n",
            "\n",
            "Program ini bertujuan untuk mencari akar fungsi matematika menggunakan metode Bisection.\n",
            "Anda dapat:\n",
            "1. Memasukkan fungsi matematika (contoh: x**2 - 2).\n",
            "2. Memberikan interval [a, b] di mana fungsi memiliki tanda berbeda.\n",
            "3. Menentukan toleransi untuk menghampiri akar.\n",
            "\n",
            "Ikuti langkah-langkah di cell berikutnya!\n",
            "\n"
          ]
        }
      ]
    },
    {
      "cell_type": "markdown",
      "source": [
        "1.) Menjelaskan tujuan dan cara kerja program kepada pengguna."
      ],
      "metadata": {
        "id": "uGzmXZUa4yPE"
      }
    },
    {
      "cell_type": "code",
      "source": [
        "# Fungsi Metode Bisection\n",
        "def bisection(f, a, b, tol):\n",
        "    \"\"\"\n",
        "    Metode Bisection untuk menemukan akar fungsi f dalam interval [a, b]\n",
        "    dengan toleransi tertentu.\n",
        "\n",
        "    Parameter:\n",
        "    - f: Fungsi matematika (lambda atau def)\n",
        "    - a: Batas bawah interval\n",
        "    - b: Batas atas interval\n",
        "    - tol: Toleransi untuk mendekati akar\n",
        "\n",
        "    Return:\n",
        "    - m: Aproksimasi akar fungsi\n",
        "    \"\"\"\n",
        "    if f(a) * f(b) >= 0:\n",
        "        raise ValueError(\"Fungsi harus memiliki tanda berbeda di a dan b.\")\n",
        "\n",
        "    print(\"\\nLangkah-langkah proses:\")\n",
        "    iteration = 1\n",
        "    while (b - a) / 2 > tol:\n",
        "        m = (a + b) / 2  # Titik tengah interval\n",
        "        print(f\"Iterasi {iteration}: a = {a}, b = {b}, m = {m}, f(m) = {f(m)}\")\n",
        "        iteration += 1\n",
        "        if f(m) == 0:  # Jika m adalah akar persis\n",
        "            return m\n",
        "        elif f(a) * f(m) < 0:  # Akar ada di [a, m]\n",
        "            b = m\n",
        "        else:  # Akar ada di [m, b]\n",
        "            a = m\n",
        "    return (a + b) / 2  # Return nilai tengah interval sebagai aproksimasi\n"
      ],
      "metadata": {
        "id": "EZ0T44vc4zw9"
      },
      "execution_count": 4,
      "outputs": []
    },
    {
      "cell_type": "markdown",
      "source": [
        "2.) Cell ini berisi implementasi utama dari metode Bisection. Fungsi ini akan digunakan untuk menghitung akar berdasarkan parameter yang diberikan."
      ],
      "metadata": {
        "id": "9YH9UtUZ47wf"
      }
    },
    {
      "cell_type": "code",
      "source": [
        "# Input fungsi matematika dan parameter dari pengguna\n",
        "print(\"Masukkan fungsi matematika dalam bentuk lambda (contoh: x**2 - 2)\")\n",
        "func_input = input(\"f(x) = \")\n",
        "f = lambda x: eval(func_input)\n",
        "\n",
        "try:\n",
        "    a = float(input(\"Masukkan batas bawah interval (a): \"))\n",
        "    b = float(input(\"Masukkan batas atas interval (b): \"))\n",
        "    tol = float(input(\"Masukkan nilai toleransi: \"))\n",
        "except ValueError:\n",
        "    print(\"Masukan harus berupa angka!\")\n"
      ],
      "metadata": {
        "id": "mkM3u1FB48uZ",
        "outputId": "93e843c8-f900-4e5c-c8e9-ee6d7e64ba9f",
        "colab": {
          "base_uri": "https://localhost:8080/"
        }
      },
      "execution_count": 5,
      "outputs": [
        {
          "name": "stdout",
          "output_type": "stream",
          "text": [
            "Masukkan fungsi matematika dalam bentuk lambda (contoh: x**2 - 2)\n",
            "f(x) = x**2 - 2\n",
            "Masukkan batas bawah interval (a): 0\n",
            "Masukkan batas atas interval (b): 2\n",
            "Masukkan nilai toleransi: 0.01\n"
          ]
        }
      ]
    },
    {
      "cell_type": "markdown",
      "source": [
        "3.) Cell ini digunakan untuk mengambil input fungsi matematika, batas interval, dan toleransi dari pengguna."
      ],
      "metadata": {
        "id": "7RI1gNVR5D-h"
      }
    },
    {
      "cell_type": "code",
      "source": [
        "# Menjalankan metode Bisection dan menampilkan hasil\n",
        "try:\n",
        "    root = bisection(f, a, b, tol)\n",
        "    print(f\"\\nAkar ditemukan: {root}\")\n",
        "    print(f\"f({root}) = {f(root)}\")\n",
        "except Exception as e:\n",
        "    print(f\"Terjadi kesalahan: {e}\")"
      ],
      "metadata": {
        "id": "d2M1tXFt5HxG",
        "outputId": "80acd1c3-3088-4bf9-d622-7c58c27c20f9",
        "colab": {
          "base_uri": "https://localhost:8080/"
        }
      },
      "execution_count": 6,
      "outputs": [
        {
          "output_type": "stream",
          "name": "stdout",
          "text": [
            "\n",
            "Langkah-langkah proses:\n",
            "Iterasi 1: a = 0.0, b = 2.0, m = 1.0, f(m) = -1.0\n",
            "Iterasi 2: a = 1.0, b = 2.0, m = 1.5, f(m) = 0.25\n",
            "Iterasi 3: a = 1.0, b = 1.5, m = 1.25, f(m) = -0.4375\n",
            "Iterasi 4: a = 1.25, b = 1.5, m = 1.375, f(m) = -0.109375\n",
            "Iterasi 5: a = 1.375, b = 1.5, m = 1.4375, f(m) = 0.06640625\n",
            "Iterasi 6: a = 1.375, b = 1.4375, m = 1.40625, f(m) = -0.0224609375\n",
            "Iterasi 7: a = 1.40625, b = 1.4375, m = 1.421875, f(m) = 0.021728515625\n",
            "\n",
            "Akar ditemukan: 1.4140625\n",
            "f(1.4140625) = -0.00042724609375\n"
          ]
        }
      ]
    },
    {
      "cell_type": "markdown",
      "source": [
        "4.) Cell ini menjalankan metode Bisection menggunakan input yang telah diberikan dan menampilkan hasilnya kepada pengguna."
      ],
      "metadata": {
        "id": "byTrWGvT5PB-"
      }
    }
  ]
}