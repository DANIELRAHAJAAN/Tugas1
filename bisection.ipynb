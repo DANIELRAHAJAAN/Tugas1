{
  "nbformat": 4,
  "nbformat_minor": 0,
  "metadata": {
    "colab": {
      "provenance": [],
      "include_colab_link": true
    },
    "kernelspec": {
      "name": "python3",
      "display_name": "Python 3"
    },
    "language_info": {
      "name": "python"
    }
  },
  "cells": [
    {
      "cell_type": "markdown",
      "metadata": {
        "id": "view-in-github",
        "colab_type": "text"
      },
      "source": [
        "<a href=\"https://colab.research.google.com/github/DANIELRAHAJAAN/Tugas1/blob/main/bisection.ipynb\" target=\"_parent\"><img src=\"https://colab.research.google.com/assets/colab-badge.svg\" alt=\"Open In Colab\"/></a>"
      ]
    },
    {
      "cell_type": "markdown",
      "source": [
        "1.) Menjelaskan tujuan dan cara kerja program kepada user."
      ],
      "metadata": {
        "id": "uGzmXZUa4yPE"
      }
    },
    {
      "cell_type": "code",
      "source": [
        "# Penjelasan program\n",
        "print(\"Selamat datang di program Metode Bisection!\")\n",
        "print(\"=\" * 50)\n",
        "print(\n",
        "    \"\"\"\n",
        "Program ini bertujuan untuk mencari akar fungsi matematika menggunakan metode Bisection.\n",
        "Anda dapat:\n",
        "1. Memasukkan fungsi matematika (contoh: x**2 - 2).\n",
        "2. Memberikan interval [a, b] di mana fungsi memiliki tanda berbeda.\n",
        "3. Menentukan toleransi untuk menghampiri akar.\n",
        "\n",
        "Ikuti langkah-langkah di cell berikutnya!\n",
        "\"\"\"\n",
        ")\n"
      ],
      "metadata": {
        "id": "5_LhaSoZurtu",
        "colab": {
          "base_uri": "https://localhost:8080/"
        },
        "collapsed": true,
        "outputId": "3faba24f-0774-47aa-d0a3-0db24e23fa6f"
      },
      "execution_count": 10,
      "outputs": [
        {
          "output_type": "stream",
          "name": "stdout",
          "text": [
            "Selamat datang di program Metode Bisection!\n",
            "==================================================\n",
            "\n",
            "Program ini bertujuan untuk mencari akar fungsi matematika menggunakan metode Bisection.\n",
            "Anda dapat:\n",
            "1. Memasukkan fungsi matematika (contoh: x**2 - 2).\n",
            "2. Memberikan interval [a, b] di mana fungsi memiliki tanda berbeda.\n",
            "3. Menentukan toleransi untuk menghampiri akar.\n",
            "\n",
            "Ikuti langkah-langkah di cell berikutnya!\n",
            "\n"
          ]
        }
      ]
    },
    {
      "cell_type": "markdown",
      "source": [
        "2.) Cell ini berisi implementasi utama dari metode Bisection. Fungsi ini akan digunakan untuk menghitung akar berdasarkan parameter yang diberikan."
      ],
      "metadata": {
        "id": "9YH9UtUZ47wf"
      }
    },
    {
      "cell_type": "code",
      "source": [
        "# Fungsi Metode Bisection\n",
        "def bisection(f, a, b, tol):\n",
        "    \"\"\"\n",
        "    Metode Bisection untuk menemukan akar fungsi f dalam interval [a, b]\n",
        "    dengan toleransi tertentu.\n",
        "\n",
        "    Parameter:\n",
        "    - f: Fungsi matematika (lambda atau def)\n",
        "    - a: Batas bawah interval\n",
        "    - b: Batas atas interval\n",
        "    - tol: Toleransi untuk mendekati akar\n",
        "\n",
        "    Return:\n",
        "    - m: Aproksimasi akar fungsi\n",
        "    \"\"\"\n",
        "    if f(a) * f(b) >= 0:\n",
        "        raise ValueError(\"Fungsi harus memiliki tanda berbeda di a dan b.\")\n",
        "\n",
        "    print(\"\\nLangkah-langkah proses:\")\n",
        "    iteration = 1\n",
        "    while (b - a) / 2 > tol:\n",
        "        m = (a + b) / 2  # Titik tengah interval\n",
        "        print(f\"Iterasi {iteration}: a = {a}, b = {b}, m = {m}, f(m) = {f(m)}\")\n",
        "        iteration += 1\n",
        "        if f(m) == 0:  # Jika m adalah akar persis\n",
        "            return m\n",
        "        elif f(a) * f(m) < 0:  # Akar ada di [a, m]\n",
        "            b = m\n",
        "        else:  # Akar ada di [m, b]\n",
        "            a = m\n",
        "    return (a + b) / 2  # Return nilai tengah interval sebagai aproksimasi\n"
      ],
      "metadata": {
        "id": "EZ0T44vc4zw9"
      },
      "execution_count": 12,
      "outputs": []
    },
    {
      "cell_type": "markdown",
      "source": [
        "-Penjelasan Fungsi:\n",
        "\n",
        "Input:\n",
        "\n",
        "-f: Fungsi yang akan dicari akarnya, misalnya\n",
        "𝑓\n",
        "(\n",
        "𝑥\n",
        ")\n",
        "=\n",
        "𝑥\n",
        "2\n",
        "−\n",
        "2\n",
        "f(x)=x\n",
        "2\n",
        " −2.\n",
        "\n",
        "-a dan b: Interval awal yang mengandung akar.\n",
        "\n",
        "-tol: Toleransi yang menentukan sejauh mana akar harus dicari dengan\n",
        "presisi tertentu.\n",
        "\n",
        "Proses:\n",
        "\n",
        "-Pertama, kita memeriksa apakah tanda fungsi pada titik\n",
        "𝑎\n",
        "a dan\n",
        "𝑏\n",
        "b berbeda, jika tidak maka metode Bisection tidak dapat digunakan.\n",
        "\n",
        "-Kemudian, kita hitung titik tengah\n",
        "𝑚\n",
        "=\n",
        "𝑎\n",
        "+\n",
        "𝑏\n",
        "2\n",
        "m=\n",
        "2\n",
        "a+b\n",
        "​\n",
        " .\n",
        "\n",
        "-Selama nilai fungsi pada\n",
        "𝑚\n",
        "m belum mencapai toleransi yang diinginkan, kita terus memperbarui interval\n",
        "[\n",
        "𝑎\n",
        ",\n",
        "𝑚\n",
        "]\n",
        "[a,m] atau\n",
        "[\n",
        "𝑚\n",
        ",\n",
        "𝑏\n",
        "]\n",
        "[m,b], berdasarkan tanda\n",
        "𝑓\n",
        "(\n",
        "𝑎\n",
        ")\n",
        "f(a) dan\n",
        "𝑓\n",
        "(\n",
        "𝑚\n",
        ")\n",
        "f(m).\n",
        "\n",
        "Output:\n",
        "\n",
        "-Fungsi akan mengembalikan nilai akar yang ditemukan dengan tingkat toleransi yang diberikan."
      ],
      "metadata": {
        "id": "77kC5oqNDKSH"
      }
    },
    {
      "cell_type": "markdown",
      "source": [
        "3.) Cell ini digunakan untuk mengambil input fungsi matematika, batas interval, dan toleransi dari usser."
      ],
      "metadata": {
        "id": "7RI1gNVR5D-h"
      }
    },
    {
      "cell_type": "code",
      "source": [
        "# Input fungsi matematika dan parameter dari pengguna\n",
        "print(\"Masukkan fungsi matematika dalam bentuk lambda (contoh: x**2 - 2)\")\n",
        "func_input = input(\"f(x) = \")\n",
        "f = lambda x: eval(func_input)\n",
        "\n",
        "try:\n",
        "    a = float(input(\"Masukkan batas bawah interval (a): \"))\n",
        "    b = float(input(\"Masukkan batas atas interval (b): \"))\n",
        "    tol = float(input(\"Masukkan nilai toleransi: \"))\n",
        "except ValueError:\n",
        "    print(\"Masukan harus berupa angka!\")\n"
      ],
      "metadata": {
        "colab": {
          "base_uri": "https://localhost:8080/"
        },
        "collapsed": true,
        "id": "mkM3u1FB48uZ",
        "outputId": "a46088dc-a67e-4691-8899-483351c0b21e"
      },
      "execution_count": 8,
      "outputs": [
        {
          "name": "stdout",
          "output_type": "stream",
          "text": [
            "Masukkan fungsi matematika dalam bentuk lambda (contoh: x**2 - 2)\n",
            "f(x) = x**2-2\n",
            "Masukkan batas bawah interval (a): 0\n",
            "Masukkan batas atas interval (b): 2\n",
            "Masukkan nilai toleransi: 0.001\n"
          ]
        }
      ]
    },
    {
      "cell_type": "markdown",
      "source": [
        "Penjelasan:\n",
        "\n",
        "-Fungsi\n",
        "𝑓\n",
        "(\n",
        "𝑥\n",
        ")\n",
        "=\n",
        "𝑥\n",
        "2\n",
        "−\n",
        "2\n",
        "f(x)=x\n",
        "2\n",
        " −2 adalah fungsi yang akar-akarnya adalah\n",
        "2\n",
        "2\n",
        "​\n",
        "  (akar positif).\n",
        "\n",
        "-Kita mencari akar di interval\n",
        "[\n",
        "0\n",
        ",\n",
        "2\n",
        "]\n",
        "[0,2] dengan toleransi\n",
        "0.01\n",
        "0.01.\n",
        "\n",
        "-Program ini akan mencetak hasil akar yang ditemukan beserta nilai fungsi pada akar tersebut\n",
        "𝑓\n",
        "(\n",
        "𝑟\n",
        ")\n",
        "f(r)."
      ],
      "metadata": {
        "id": "y_cxQ_I7EaBe"
      }
    },
    {
      "cell_type": "markdown",
      "source": [
        "4.) Cell ini menjalankan metode Bisection menggunakan input yang telah diberikan dan menampilkan hasilnya kepada usser."
      ],
      "metadata": {
        "id": "byTrWGvT5PB-"
      }
    },
    {
      "cell_type": "code",
      "source": [
        "# Menjalankan metode Bisection dan menampilkan hasil\n",
        "try:\n",
        "    root = bisection(f, a, b, tol)\n",
        "    print(f\"\\nAkar ditemukan: {root}\")\n",
        "    print(f\"f({root}) = {f(root)}\")\n",
        "except Exception as e:\n",
        "    print(f\"Terjadi kesalahan: {e}\")"
      ],
      "metadata": {
        "colab": {
          "base_uri": "https://localhost:8080/"
        },
        "id": "d2M1tXFt5HxG",
        "outputId": "48461b0b-ee60-4e86-dc0e-9610c6895913"
      },
      "execution_count": 9,
      "outputs": [
        {
          "output_type": "stream",
          "name": "stdout",
          "text": [
            "\n",
            "Langkah-langkah proses:\n",
            "Iterasi 1: a = 0.0, b = 2.0, m = 1.0, f(m) = -1.0\n",
            "Iterasi 2: a = 1.0, b = 2.0, m = 1.5, f(m) = 0.25\n",
            "Iterasi 3: a = 1.0, b = 1.5, m = 1.25, f(m) = -0.4375\n",
            "Iterasi 4: a = 1.25, b = 1.5, m = 1.375, f(m) = -0.109375\n",
            "Iterasi 5: a = 1.375, b = 1.5, m = 1.4375, f(m) = 0.06640625\n",
            "Iterasi 6: a = 1.375, b = 1.4375, m = 1.40625, f(m) = -0.0224609375\n",
            "Iterasi 7: a = 1.40625, b = 1.4375, m = 1.421875, f(m) = 0.021728515625\n",
            "Iterasi 8: a = 1.40625, b = 1.421875, m = 1.4140625, f(m) = -0.00042724609375\n",
            "Iterasi 9: a = 1.4140625, b = 1.421875, m = 1.41796875, f(m) = 0.0106353759765625\n",
            "Iterasi 10: a = 1.4140625, b = 1.41796875, m = 1.416015625, f(m) = 0.005100250244140625\n",
            "\n",
            "Akar ditemukan: 1.4150390625\n",
            "f(1.4150390625) = 0.0023355484008789062\n"
          ]
        }
      ]
    },
    {
      "cell_type": "markdown",
      "source": [
        "Penjelasan:\n",
        "\n",
        "-Pada cell ini, kita menguji metode Bisection pada dua fungsi yang berbeda,\n",
        "𝑓\n",
        "(\n",
        "𝑥\n",
        ")\n",
        "=\n",
        "𝑥\n",
        "2\n",
        "−\n",
        "2\n",
        "f(x)=x\n",
        "2\n",
        " −2 dan\n",
        "𝑓\n",
        "(\n",
        "𝑥\n",
        ")\n",
        "=\n",
        "𝑥\n",
        "3\n",
        "−\n",
        "1\n",
        "f(x)=x\n",
        "3\n",
        " −1, masing-masing dengan toleransi yang berbeda.\n",
        "\n",
        "-Hasil akar yang ditemukan untuk kedua fungsi dicetak bersama nilai fungsi pada akar tersebut, untuk memverifikasi bahwa nilai fungsi mendekati nol."
      ],
      "metadata": {
        "id": "gmme3mKOE7MB"
      }
    }
  ]
}